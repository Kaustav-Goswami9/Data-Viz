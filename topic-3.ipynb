{
 "cells": [
  {
   "cell_type": "code",
   "execution_count": 1,
   "metadata": {},
   "outputs": [],
   "source": [
    "import pandas as pd\n",
    "import seaborn as sns\n",
    "import matplotlib.pyplot as plt"
   ]
  },
  {
   "cell_type": "code",
   "execution_count": 21,
   "metadata": {},
   "outputs": [],
   "source": [
    "data = pd.read_csv('no_encoding_data.csv')\n",
    "\n",
    "# columns from Q4_1 to Q4_6\n",
    "Q4_columns = ['Q4_1', 'Q4_2', 'Q4_3', 'Q4_4', 'Q4_5', 'Q4_6']\n",
    "col_names = ['Company executives', 'Department heads', 'Immediate supervisors',\n",
    "             'Internal communications', 'Large stakeholders', 'Company policies and regulations']\n",
    "\n",
    "# create a value_counts dataframe for each column\n",
    "value_counts = [data[col].value_counts() for col in Q4_columns]\n",
    "\n",
    "# create a dataframe from the value_counts\n",
    "df = pd.DataFrame(value_counts).T\n",
    "df.columns = col_names\n",
    "df[df!=-1].to_csv('value_counts.csv')"
   ]
  }
 ],
 "metadata": {
  "kernelspec": {
   "display_name": "Python 3",
   "language": "python",
   "name": "python3"
  },
  "language_info": {
   "codemirror_mode": {
    "name": "ipython",
    "version": 3
   },
   "file_extension": ".py",
   "mimetype": "text/x-python",
   "name": "python",
   "nbconvert_exporter": "python",
   "pygments_lexer": "ipython3",
   "version": "3.12.3"
  }
 },
 "nbformat": 4,
 "nbformat_minor": 2
}
