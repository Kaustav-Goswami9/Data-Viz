{
 "cells": [
  {
   "cell_type": "code",
   "execution_count": 1,
   "metadata": {},
   "outputs": [],
   "source": [
    "import pandas as pd\n",
    "import seaborn as sns\n",
    "import matplotlib.pyplot as plt"
   ]
  },
  {
   "cell_type": "code",
   "execution_count": 16,
   "metadata": {},
   "outputs": [],
   "source": [
    "data = pd.read_csv('no_encoding_data.csv')\n",
    "columns = ['Q10_4', 'Q11_1', 'Q11_5', 'Q11_6']\n",
    "\n",
    "# value count together\n",
    "temp = data[data[columns] != '-1'][columns].apply(pd.Series.value_counts)\n",
    "temp.columns = ['Evicted from company-provided housing', ' Lost your job',\n",
    "                'Worried about paying rent or mortgage, for groceries, or health care expenses', 'Quit your job']\n",
    "temp.to_csv('value_counts.csv')"
   ]
  },
  {
   "cell_type": "code",
   "execution_count": 31,
   "metadata": {},
   "outputs": [],
   "source": [
    "data = pd.read_csv('no_encoding_data.csv')\n",
    "columns = ['Q16_1', 'Q16_2', 'Q16_3', 'Q16_4', 'Q16_5',\n",
    "           'Q16_6', 'Q16_7', 'Q16_8', 'Q16_9', 'Q16_10']\n",
    "\n",
    "temp = data[data['Q20'].isin([2, 4, 6])]\n",
    "temp = temp[temp[columns] != '-1'][columns].apply(pd.Series.value_counts)\n",
    "\n",
    "temp.columns = ['Incorrect ID', \"Couldn't Find Poll\", 'Missed Deadline', 'Inaccessible Location', 'No Assistance',\n",
    "                'Provisional Participation', 'Work Conflict', 'Long Wait Time', 'Name Not Listed', 'Late Absentee Confirmation']\n",
    "temp.to_csv('value_counts.csv')"
   ]
  }
 ],
 "metadata": {
  "kernelspec": {
   "display_name": "Python 3",
   "language": "python",
   "name": "python3"
  },
  "language_info": {
   "codemirror_mode": {
    "name": "ipython",
    "version": 3
   },
   "file_extension": ".py",
   "mimetype": "text/x-python",
   "name": "python",
   "nbconvert_exporter": "python",
   "pygments_lexer": "ipython3",
   "version": "3.12.3"
  }
 },
 "nbformat": 4,
 "nbformat_minor": 2
}
